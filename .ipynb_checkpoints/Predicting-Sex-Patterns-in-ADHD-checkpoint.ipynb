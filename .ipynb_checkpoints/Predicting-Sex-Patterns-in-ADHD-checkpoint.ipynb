{
 "cells": [
  {
   "cell_type": "code",
   "execution_count": 5,
   "id": "b4051721-01b6-4149-ba3e-6bbea280779b",
   "metadata": {},
   "outputs": [],
   "source": [
    "#Todo: Add your code"
   ]
  },
  {
   "cell_type": "code",
   "execution_count": null,
   "id": "8b6f8db7-b908-492b-a733-dd9bf074a7ba",
   "metadata": {},
   "outputs": [],
   "source": []
  }
 ],
 "metadata": {
  "kernelspec": {
   "display_name": "Python [conda env:base] *",
   "language": "python",
   "name": "conda-base-py"
  },
  "language_info": {
   "codemirror_mode": {
    "name": "ipython",
    "version": 3
   },
   "file_extension": ".py",
   "mimetype": "text/x-python",
   "name": "python",
   "nbconvert_exporter": "python",
   "pygments_lexer": "ipython3",
   "version": "3.12.7"
  }
 },
 "nbformat": 4,
 "nbformat_minor": 5
}
